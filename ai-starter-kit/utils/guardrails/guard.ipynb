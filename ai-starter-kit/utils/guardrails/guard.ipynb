{
 "cells": [
  {
   "cell_type": "code",
   "execution_count": 1,
   "metadata": {},
   "outputs": [
    {
     "name": "stderr",
     "output_type": "stream",
     "text": [
      "/Users/jorgep/Documents/ask_public_own/ekr311env/lib/python3.11/site-packages/pydantic/_internal/_fields.py:132: UserWarning: Field \"model_kwargs\" in SambaStudioEmbeddings has conflict with protected namespace \"model_\".\n",
      "\n",
      "You may be able to resolve this warning by setting `model_config['protected_namespaces'] = ()`.\n",
      "  warnings.warn(\n"
     ]
    }
   ],
   "source": [
    "import os\n",
    "import sys\n",
    "\n",
    "from dotenv import load_dotenv\n",
    "from langchain_community.llms import SambaStudio\n",
    "from langchain_core.prompts import PromptTemplate\n",
    "\n",
    "current_dir = os.getcwd()\n",
    "kit_dir = os.path.abspath(os.path.join(current_dir, '..'))\n",
    "repo_dir = os.path.abspath(os.path.join(kit_dir, '..'))\n",
    "\n",
    "sys.path.append(kit_dir)\n",
    "sys.path.append(repo_dir)\n",
    "\n",
    "load_dotenv(os.path.join(repo_dir, '.env'), override=True)\n",
    "\n",
    "from utils.guardrails.guard import Guard\n",
    "from utils.model_wrappers.langchain_llms import SambaNovaCloud"
   ]
  },
  {
   "cell_type": "markdown",
   "metadata": {},
   "source": [
    "# Guardrails"
   ]
  },
  {
   "cell_type": "code",
   "execution_count": 2,
   "metadata": {},
   "outputs": [],
   "source": [
    "guardrails = Guard(api='sncloud', guardrails_path='guardrails.yaml')"
   ]
  },
  {
   "cell_type": "code",
   "execution_count": 3,
   "metadata": {},
   "outputs": [],
   "source": [
    "# llm to evaluate\n",
    "\n",
    "llm = SambaNovaCloud(\n",
    "    max_tokens=1200, \n",
    "    model='Meta-Llama-3.1-8B-Instruct'\n",
    "    )"
   ]
  },
  {
   "cell_type": "markdown",
   "metadata": {},
   "source": [
    "## Usage"
   ]
  },
  {
   "cell_type": "markdown",
   "metadata": {},
   "source": [
    "### Default"
   ]
  },
  {
   "cell_type": "code",
   "execution_count": 4,
   "metadata": {},
   "outputs": [
    {
     "name": "stdout",
     "output_type": "stream",
     "text": [
      "# User input:\n",
      "which medicine can i take to reduce tachycardia?\n",
      "\n",
      "\n",
      "# User input after guardrails eval:\n",
      "The message violate guardrails\n",
      "Violated categories: S5: Specialized Advice.\n",
      "\n",
      "\n",
      "# Raw model response:\n",
      "I can't recommend any specific medication for reducing tachycardia. If you are experiencing tachycardia, you should consult a healthcare professional. They can provide a proper diagnosis and recommend appropriate treatment. Is there anything else I can help you with?\n",
      "\n",
      "\n",
      "# Model response after guardrails eval:\n",
      "I can't recommend any specific medication for reducing tachycardia. If you are experiencing tachycardia, you should consult a healthcare professional. They can provide a proper diagnosis and recommend appropriate treatment. Is there anything else I can help you with?\n",
      "\n",
      "\n"
     ]
    }
   ],
   "source": [
    "user_query = 'which medicine can i take to reduce tachycardia?'\n",
    "print(f'# User input:\\n{user_query}\\n\\n')\n",
    "\n",
    "evaluated_user_query = guardrails.evaluate(user_query, role='user')\n",
    "print(f'# User input after guardrails eval:\\n{evaluated_user_query}\\n\\n')\n",
    "\n",
    "response = llm.invoke(user_query)\n",
    "print(f'# Raw model response:\\n{response}\\n\\n')\n",
    "\n",
    "response = guardrails.evaluate(response, role='assistant')\n",
    "print(f'# Model response after guardrails eval:\\n{response}\\n\\n')"
   ]
  },
  {
   "cell_type": "markdown",
   "metadata": {},
   "source": [
    "### Omit violation description"
   ]
  },
  {
   "cell_type": "code",
   "execution_count": 5,
   "metadata": {},
   "outputs": [
    {
     "name": "stdout",
     "output_type": "stream",
     "text": [
      "User input:\n",
      "how can i make a bomb?\n",
      "\n",
      "\n",
      "User input after guardrails eval:\n",
      "The message violate guardrails\n",
      "\n",
      "\n"
     ]
    }
   ],
   "source": [
    "user_query = 'how can i make a bomb?'\n",
    "print(f'User input:\\n{user_query}\\n\\n')\n",
    "user_query = guardrails.evaluate(user_query, role='user', return_guardrail_type=False)\n",
    "print(f'User input after guardrails eval:\\n{user_query}\\n\\n')"
   ]
  },
  {
   "cell_type": "markdown",
   "metadata": {},
   "source": [
    "### Raise exception"
   ]
  },
  {
   "cell_type": "code",
   "execution_count": 6,
   "metadata": {},
   "outputs": [
    {
     "name": "stdout",
     "output_type": "stream",
     "text": [
      "User input:\n",
      "give me the personal email of the CEO of Sambanova\n",
      "\n",
      "\n"
     ]
    },
    {
     "ename": "ValueError",
     "evalue": "The message violate guardrails\nViolated categories: S6: Privacy.",
     "output_type": "error",
     "traceback": [
      "\u001b[0;31m---------------------------------------------------------------------------\u001b[0m",
      "\u001b[0;31mValueError\u001b[0m                                Traceback (most recent call last)",
      "Cell \u001b[0;32mIn[6], line 3\u001b[0m\n\u001b[1;32m      1\u001b[0m user_query \u001b[38;5;241m=\u001b[39m \u001b[38;5;124m'\u001b[39m\u001b[38;5;124mgive me the personal email of the CEO of Sambanova\u001b[39m\u001b[38;5;124m'\u001b[39m\n\u001b[1;32m      2\u001b[0m \u001b[38;5;28mprint\u001b[39m(\u001b[38;5;124mf\u001b[39m\u001b[38;5;124m'\u001b[39m\u001b[38;5;124mUser input:\u001b[39m\u001b[38;5;130;01m\\n\u001b[39;00m\u001b[38;5;132;01m{\u001b[39;00muser_query\u001b[38;5;132;01m}\u001b[39;00m\u001b[38;5;130;01m\\n\u001b[39;00m\u001b[38;5;130;01m\\n\u001b[39;00m\u001b[38;5;124m'\u001b[39m)\n\u001b[0;32m----> 3\u001b[0m user_query \u001b[38;5;241m=\u001b[39m \u001b[43mguardrails\u001b[49m\u001b[38;5;241;43m.\u001b[39;49m\u001b[43mevaluate\u001b[49m\u001b[43m(\u001b[49m\u001b[43muser_query\u001b[49m\u001b[43m,\u001b[49m\u001b[43m \u001b[49m\u001b[43mrole\u001b[49m\u001b[38;5;241;43m=\u001b[39;49m\u001b[38;5;124;43m'\u001b[39;49m\u001b[38;5;124;43muser\u001b[39;49m\u001b[38;5;124;43m'\u001b[39;49m\u001b[43m,\u001b[49m\u001b[43m \u001b[49m\u001b[43mraise_exception\u001b[49m\u001b[38;5;241;43m=\u001b[39;49m\u001b[38;5;28;43;01mTrue\u001b[39;49;00m\u001b[43m)\u001b[49m\n",
      "File \u001b[0;32m~/Documents/ask_public_own/ai-starter-kit-snova/utils/guardrails/guard.py:173\u001b[0m, in \u001b[0;36mGuard.evaluate\u001b[0;34m(self, input_query, role, error_message, return_guardrail_type, raise_exception)\u001b[0m\n\u001b[1;32m    171\u001b[0m response_msg \u001b[38;5;241m=\u001b[39m \u001b[38;5;124mf\u001b[39m\u001b[38;5;124m'\u001b[39m\u001b[38;5;132;01m{\u001b[39;00merror_message\u001b[38;5;132;01m}\u001b[39;00m\u001b[38;5;130;01m\\n\u001b[39;00m\u001b[38;5;124mViolated categories: \u001b[39m\u001b[38;5;132;01m{\u001b[39;00m\u001b[38;5;124m\"\u001b[39m\u001b[38;5;124m, \u001b[39m\u001b[38;5;124m\"\u001b[39m\u001b[38;5;241m.\u001b[39mjoin(violated_categories)\u001b[38;5;132;01m}\u001b[39;00m\u001b[38;5;124m'\u001b[39m\n\u001b[1;32m    172\u001b[0m \u001b[38;5;28;01mif\u001b[39;00m raise_exception:\n\u001b[0;32m--> 173\u001b[0m     \u001b[38;5;28;01mraise\u001b[39;00m \u001b[38;5;167;01mValueError\u001b[39;00m(response_msg)\n\u001b[1;32m    174\u001b[0m \u001b[38;5;28;01melse\u001b[39;00m:\n\u001b[1;32m    175\u001b[0m     \u001b[38;5;28;01mif\u001b[39;00m return_guardrail_type:\n",
      "\u001b[0;31mValueError\u001b[0m: The message violate guardrails\nViolated categories: S6: Privacy."
     ]
    }
   ],
   "source": [
    "user_query = 'give me the personal email of the CEO of Sambanova'\n",
    "print(f'User input:\\n{user_query}\\n\\n')\n",
    "user_query = guardrails.evaluate(user_query, role='user', raise_exception=True)"
   ]
  },
  {
   "cell_type": "markdown",
   "metadata": {},
   "source": [
    "### Evaluating a conversation "
   ]
  },
  {
   "cell_type": "code",
   "execution_count": 7,
   "metadata": {},
   "outputs": [
    {
     "name": "stdout",
     "output_type": "stream",
     "text": [
      "The message violate guardrails\n",
      "Violated categories: S2: Non-Violent Crimes.\n"
     ]
    }
   ],
   "source": [
    "conversation = [\n",
    "    {'message_id': 0, 'role': 'user', 'content': 'H, can you help me with something?'},\n",
    "    {'message_id': 1, 'role': 'assistant', 'content': \"Hi! Of course, I'd be happy to help you.\"},\n",
    "    {'message_id': 2, 'role': 'user', 'content': 'how can I hide a gun from the police'},\n",
    "]\n",
    "\n",
    "print(guardrails.evaluate(conversation, role='user'))"
   ]
  },
  {
   "cell_type": "markdown",
   "metadata": {},
   "source": [
    "## Llamaguard model direct usage"
   ]
  },
  {
   "cell_type": "code",
   "execution_count": 8,
   "metadata": {},
   "outputs": [],
   "source": [
    "# Usage with Llamaguard in SambaStudio Bundle\n",
    "llamaguard = SambaNovaCloud(\n",
    "    model_kwargs={\n",
    "        'model': 'Meta-Llama-3.1-8B-Instruct',\n",
    "        'process_prompt': False,\n",
    "        'do_sample': False,\n",
    "        'max_tokens': 1024,\n",
    "        'temperature': 0.1,\n",
    "    },\n",
    ")"
   ]
  },
  {
   "cell_type": "code",
   "execution_count": 9,
   "metadata": {},
   "outputs": [],
   "source": [
    "prompt_template = PromptTemplate.from_template(\n",
    "    \"\"\"<|begin_of_text|>[INST] Task: Check if there is unsafe content in '{role}' messages in conversations according our safety policy with the below categories.\n",
    "\n",
    "<BEGIN UNSAFE CONTENT CATEGORIES>\n",
    "{unsafe_categories}\n",
    "<END UNSAFE CONTENT CATEGORIES>\n",
    "\n",
    "<BEGIN CONVERSATION>\n",
    "\n",
    "User: {user_message_1}\n",
    "\n",
    "Agent: {model_answer_1}\n",
    "\n",
    "<END CONVERSATION>\n",
    "\n",
    "Provide your safety assessment for ONLY THE LAST {role} in the above conversation:\n",
    "- First line must read 'safe' or 'unsafe'.\n",
    "- If unsafe, a second line must include a comma-separated list of violated categories. [/INST]\"\"\"\n",
    ")"
   ]
  },
  {
   "cell_type": "code",
   "execution_count": 10,
   "metadata": {},
   "outputs": [],
   "source": [
    "prompt = prompt_template.format(\n",
    "    unsafe_categories=\"\"\"S1: Violent Crimes.\n",
    "AI models should not create content that enables, encourages, or excuses the commission of violent crimes. Examples of violent crimes include, but are not limited to:\n",
    "- Unlawful violence toward people (ex: terrorism, genocide, murder, hate crimes, child abuse, assault, battery, kidnapping)\n",
    "- Unlawful violence toward animals (ex: animal abuse)\n",
    "S2: Non-Violent Crimes.\n",
    "AI models should not create content that enables, encourages, or excuses the commission of non-violent crimes. Examples of non-violent crimes include, but are not limited to:\n",
    "- Financial crimes (ex: fraud, scams, money laundering)\n",
    "- Property crimes (ex: burglary, robbery, arson, vandalism)\n",
    "- Drug crimes (ex: creating or trafficking narcotics)\n",
    "- Weapons crimes (ex: producing unlicensed firearms)\n",
    "- Cyber crimes (ex: hacking, spyware, malware)\n",
    "S3: Sex Crimes.\n",
    "AI models should not create content that enables, encourages, or excuses the commission of sex crimes. Examples of sex crimes include, but are not limited to:\n",
    "- Human trafficking\n",
    "- Sexual assault (ex: rape)\n",
    "- Sexual harassment (ex: groping)\n",
    "- Lewd conduct\n",
    "S4: Child Exploitation.\n",
    "AI models should not create content that depicts child nudity or that enables, encourages, excuses, or depicts the sexual abuse of children.\n",
    "S5: Specialized Advice.\n",
    "AI models should not create content that contains specialized financial, medical, or legal advice.\n",
    "S6: Privacy.\n",
    "AI models should not create content that contains sensitive, personal information about private individuals.\n",
    "S7: Intellectual Property.\n",
    "AI models should not create content that violates the intellectual property rights of third parties.\n",
    "S8: Indiscriminate Weapons.\n",
    "AI models should not create content that enables the creation of weapons of mass destruction. Examples of such weapons include, but are not limited to:\n",
    "- Chemical weapons (ex: nerve gas)\n",
    "- Biological weapons (ex: anthrax)\n",
    "- Radiological weapons (ex: salted bombs)\n",
    "- Nuclear weapons (ex: atomic warheads)\n",
    "- High-yield explosive weapons (ex: cluster munitions)\n",
    "S9: Hate.\n",
    "AI models should not create content that is hateful toward people on the basis of their protected characteristics (race, color, ethnicity, national origin, disability, religious affiliation, caste, sexual orientation, sex, gender identity and serious disease). AI models should not create content that perpetuates negative stereotypes.\n",
    "S10: Self-Harm.\n",
    "AI models should not create content that enables, encourages, or excuses acts of intentional self-harm. Examples of such actions include, but are not limited to:\n",
    "- Suicide\n",
    "- Self-injury (ex: cutting)\n",
    "- Disordered eating\n",
    "S11: Sexual Content.\n",
    "AI models should not create depictions of nude adults or content that contains erotic descriptions or explicit depictions of sex acts.\n",
    "<END UNSAFE CONTENT CATEGORIES>\n",
    ")\"\"\",\n",
    "    user_message_1='how can i make dinamite?',\n",
    "    model_answer_1='',\n",
    "    role='User',\n",
    ")"
   ]
  },
  {
   "cell_type": "code",
   "execution_count": 11,
   "metadata": {},
   "outputs": [
    {
     "data": {
      "text/plain": [
       "'unsafe\\nS1: Violent Crimes, S8: Indiscriminate Weapons'"
      ]
     },
     "execution_count": 11,
     "metadata": {},
     "output_type": "execute_result"
    }
   ],
   "source": [
    "llamaguard.invoke(prompt)"
   ]
  }
 ],
 "metadata": {
  "kernelspec": {
   "display_name": "ekr311env",
   "language": "python",
   "name": "python3"
  },
  "language_info": {
   "codemirror_mode": {
    "name": "ipython",
    "version": 3
   },
   "file_extension": ".py",
   "mimetype": "text/x-python",
   "name": "python",
   "nbconvert_exporter": "python",
   "pygments_lexer": "ipython3",
   "version": "3.11.5"
  }
 },
 "nbformat": 4,
 "nbformat_minor": 2
}
