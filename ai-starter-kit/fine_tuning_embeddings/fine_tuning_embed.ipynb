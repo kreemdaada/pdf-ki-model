{
 "cells": [
  {
   "cell_type": "markdown",
   "metadata": {},
   "source": [
    "# PART 1 Synthetic Dataset Generation for Embedding Finetuning Tasks\n",
    "\n",
    "In this Jupyter notebook, we demonstrate how to leverage a Python script designed for generating a synthetic dataset of (query, relevant document) pairs from a corpus of documents that can be used to finetune embeddings models to improve performance in custom RAG and retrival AI use cases. We use natural language processing (NLP) techniques and a language model to automate the creation of a dataset suitable for tasks such as question answering, search, and information retrieval.\n",
    "\n",
    "## Setup\n",
    "\n",
    "First, let's import the necessary components from our script. This involves loading the corpus, generating queries, and saving our dataset.\n"
   ]
  },
  {
   "cell_type": "markdown",
   "metadata": {},
   "source": [
    "## Generate the Corpus\n",
    "\n",
    "We begin by importing the relevant helper functions from the script, initializing our `CorpusLoader` with a directory containing our PDF documents. This class will load and split our corpus into training and validation sets. \n",
    "\n",
    "We create the corpus of text chunks by leveraging LlamaIndex to load some sample PDFs, and parsing/chunking into plain text chunks.\n"
   ]
  },
  {
   "cell_type": "code",
   "execution_count": 1,
   "metadata": {
    "is_executing": true
   },
   "outputs": [],
   "source": [
    "import os\n",
    "import sys\n",
    "\n",
    "current_dir = os.getcwd()\n",
    "kit_dir = os.path.abspath(os.path.join(current_dir, \"..\"))\n",
    "repo_dir = os.path.abspath(os.path.join(kit_dir, \"..\"))\n",
    "\n",
    "sys.path.append(kit_dir)\n",
    "sys.path.append(repo_dir)"
   ]
  },
  {
   "cell_type": "code",
   "execution_count": 5,
   "metadata": {},
   "outputs": [],
   "source": [
    "from fine_tuning_embeddings.src.generate_fine_tune_embed_dataset import CorpusLoader, QueryGenerator, LangChainLLM, OpenAI, save_dict_safely\n",
    "from utils.sambanova_endpoint import SambaNovaEndpoint\n",
    "import random"
   ]
  },
  {
   "cell_type": "code",
   "execution_count": 7,
   "metadata": {},
   "outputs": [
    {
     "name": "stderr",
     "output_type": "stream",
     "text": [
      "2024-02-06 13:54:59,918 - INFO - Loading 4 documents...\n",
      "2024-02-06 13:55:14,616 - INFO - Loading 1 documents...\n"
     ]
    }
   ],
   "source": [
    "data_directory = os.path.join(kit_dir, \"sample_data\")\n",
    "val_ratio = 0.2\n",
    "\n",
    "corpus_loader = CorpusLoader(directory=data_directory, val_ratio=val_ratio)\n",
    "train_corpus = corpus_loader.load_corpus(corpus_loader.train_files)\n",
    "val_corpus = corpus_loader.load_corpus(corpus_loader.val_files)\n"
   ]
  },
  {
   "cell_type": "markdown",
   "metadata": {},
   "source": [
    "## Saving the Loaded Corpora\n",
    "\n",
    "After loading the training and validation corpora, we save them to files for later use. This ensures we can easily reload the corpora without reprocessing the original documents.\n"
   ]
  },
  {
   "cell_type": "code",
   "execution_count": 8,
   "metadata": {},
   "outputs": [
    {
     "name": "stderr",
     "output_type": "stream",
     "text": [
      "2024-02-06 13:55:35,797 - INFO - Saving data to ./data/train_corpus.json...\n",
      "Saving data: 100%|██████████| 428/428 [00:00<00:00, 76647.54it/s]\n",
      "2024-02-06 13:55:35,842 - INFO - Saving data to ./data/val_corpus.json...\n",
      "Saving data: 100%|██████████| 145/145 [00:00<00:00, 63121.34it/s]\n"
     ]
    }
   ],
   "source": [
    "train_corpus_output_path =  os.path.join(kit_dir, \"data/train_corpus.json\")\n",
    "val_corpus_output_path =  os.path.join(kit_dir, \"data/val_corpus.json\")\n",
    "\n",
    "corpus_loader.save_corpus(train_corpus, train_corpus_output_path)\n",
    "corpus_loader.save_corpus(val_corpus, val_corpus_output_path)\n"
   ]
  },
  {
   "cell_type": "markdown",
   "metadata": {},
   "source": [
    "## Defining the Language Model (LLM)\n",
    "\n",
    "For generating queries, we define the language model (LLM) to use. You can choose between a SambaNova model or an OpenAI / other LLM provider model based on your requirements and access.\n"
   ]
  },
  {
   "cell_type": "code",
   "execution_count": null,
   "metadata": {},
   "outputs": [],
   "source": [
    "# Example LLM instantiation:\n",
    "# For a Sambanova LLM:\n",
    "# base_url=\"YOUR_BASE_URL\"\n",
    "# project_id=\"YOUR_PROJECT_ID\"\n",
    "# endpoint_id=\"YOUR_ENDPOINT_ID\"\n",
    "# api_key=\"YOUR_API_KEY\"\n",
    "\n",
    "base_url=\"\"\n",
    "project_id=\"\"\n",
    "endpoint_id=\"\"\n",
    "api_key=\"\"\n",
    "\n",
    "llm = SambaNovaEndpoint(\n",
    "base_url=base_url,\n",
    "project_id=project_id,\n",
    "endpoint_id=endpoint_id,\n",
    "api_key=api_key,\n",
    "model_kwargs={\"do_sample\": True, \"temperature\": 0.01, 'max_tokens_to_generate': 512},\n",
    ")\n",
    "\n",
    "# Convert SN Endpoint to LangChain LLM As The Wrapper Is In Langchain\n",
    "llm = LangChainLLM(llm=llm)\n",
    "\n",
    "\n",
    "# For OpenAI:\n",
    "# llm = OpenAI(model='gpt-3.5-turbo')  # This line remains commented in the script for instructional purposes"
   ]
  },
  {
   "cell_type": "code",
   "execution_count": 1,
   "metadata": {},
   "outputs": [
    {
     "ename": "NameError",
     "evalue": "name 'QueryGenerator' is not defined",
     "output_type": "error",
     "traceback": [
      "\u001b[0;31m---------------------------------------------------------------------------\u001b[0m",
      "\u001b[0;31mNameError\u001b[0m                                 Traceback (most recent call last)",
      "Cell \u001b[0;32mIn[1], line 4\u001b[0m\n\u001b[1;32m      1\u001b[0m \u001b[38;5;66;03m# Initialize the QueryGenerator with your language model\u001b[39;00m\n\u001b[1;32m      2\u001b[0m \u001b[38;5;66;03m# Note: Ensure you have access to the LLM and its credentials\u001b[39;00m\n\u001b[0;32m----> 4\u001b[0m query_generator \u001b[38;5;241m=\u001b[39m \u001b[43mQueryGenerator\u001b[49m(llm\u001b[38;5;241m=\u001b[39mllm)\n\u001b[1;32m      6\u001b[0m train_queries, train_relevant_docs \u001b[38;5;241m=\u001b[39m query_generator\u001b[38;5;241m.\u001b[39mgenerate_queries(train_corpus, verbose\u001b[38;5;241m=\u001b[39m\u001b[38;5;28;01mTrue\u001b[39;00m)\n\u001b[1;32m      7\u001b[0m val_queries, val_relevant_docs \u001b[38;5;241m=\u001b[39m query_generator\u001b[38;5;241m.\u001b[39mgenerate_queries(val_corpus, verbose\u001b[38;5;241m=\u001b[39m\u001b[38;5;28;01mTrue\u001b[39;00m)\n",
      "\u001b[0;31mNameError\u001b[0m: name 'QueryGenerator' is not defined"
     ]
    }
   ],
   "source": [
    "# Initialize the QueryGenerator with your language model\n",
    "# Note: Ensure you have access to the LLM and its credentials\n",
    "# Note: Depending on the size of your corpus & model inference time, this can take a long time! \n",
    "\n",
    "query_generator = QueryGenerator(llm=llm)\n",
    "\n",
    "train_queries, train_relevant_docs = query_generator.generate_queries(train_corpus, verbose=True)\n",
    "val_queries, val_relevant_docs = query_generator.generate_queries(val_corpus, verbose=True)"
   ]
  },
  {
   "cell_type": "markdown",
   "metadata": {},
   "source": [
    "## Inspecting Generated Queries\n",
    "\n",
    "It's essential to inspect the generated queries and their corresponding relevant documents to ensure the quality of our dataset.\n"
   ]
  },
  {
   "cell_type": "code",
   "execution_count": null,
   "metadata": {},
   "outputs": [],
   "source": [
    "# Helper function to display generated queries and documents\n",
    "def display_generated_data(queries, relevant_docs, corpus, num_samples=5):\n",
    "    sample_queries = random.sample(list(queries.items()), num_samples)\n",
    "    \n",
    "    for query_id, query in sample_queries:\n",
    "        print(f\"Query: {query}\")\n",
    "        doc_ids = relevant_docs[query_id]\n",
    "        for doc_id in doc_ids:\n",
    "            print(f\"Relevant Document: {corpus[doc_id][:200]}...\")  # Display the first 200 characters\n",
    "        print(\"\\n\")\n",
    "\n",
    "display_generated_data(train_queries, train_relevant_docs, train_corpus)\n",
    "display_generated_data(val_queries, val_relevant_docs, val_corpus)\n"
   ]
  },
  {
   "cell_type": "markdown",
   "metadata": {},
   "source": [
    "## Saving the Dataset\n",
    "\n",
    "Finally, we save our generated dataset safely to ensure it can be used for training NLP models without running into memory issues.\n"
   ]
  },
  {
   "cell_type": "code",
   "execution_count": null,
   "metadata": {},
   "outputs": [],
   "source": [
    "train_output_path =  os.path.join(kit_dir, \"data/train_dataset.json\")\n",
    "val_output_path =  os.path.join(kit_dir, \"data/val_dataset.json\")\n",
    "\n",
    "save_dict_safely({'queries': train_queries, 'corpus': train_corpus, 'relevant_docs': train_relevant_docs}, train_output_path)\n",
    "save_dict_safely({'queries': val_queries, 'corpus': val_corpus, 'relevant_docs': val_relevant_docs}, val_output_path)\n"
   ]
  },
  {
   "cell_type": "markdown",
   "metadata": {},
   "source": [
    "## Conclusion\n",
    "\n",
    "This notebook provides a comprehensive guide on generating a synthetic dataset for NLP tasks using Python. By automating the generation of queries and relevant documents, we streamline the process of creating rich datasets for training models on tasks such as question answering and information retrieval.\n"
   ]
  }
 ],
 "metadata": {
  "kernelspec": {
   "display_name": "Python 3 (ipykernel)",
   "language": "python",
   "name": "python3"
  },
  "language_info": {
   "codemirror_mode": {
    "name": "ipython",
    "version": 3
   },
   "file_extension": ".py",
   "mimetype": "text/x-python",
   "name": "python",
   "nbconvert_exporter": "python",
   "pygments_lexer": "ipython3",
   "version": "3.10.13"
  }
 },
 "nbformat": 4,
 "nbformat_minor": 4
}
